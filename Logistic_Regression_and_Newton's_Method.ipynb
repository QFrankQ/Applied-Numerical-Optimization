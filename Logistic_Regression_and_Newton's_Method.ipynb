{
  "cells": [
    {
      "cell_type": "markdown",
      "metadata": {
        "id": "view-in-github",
        "colab_type": "text"
      },
      "source": [
        "<a href=\"https://colab.research.google.com/github/QFrankQ/Applied-Numerical-Optimization/blob/main/Logistic_Regression_and_Newton's_Method.ipynb\" target=\"_parent\"><img src=\"https://colab.research.google.com/assets/colab-badge.svg\" alt=\"Open In Colab\"/></a>"
      ]
    },
    {
      "cell_type": "markdown",
      "metadata": {
        "id": "CPSqaNgZ5Cht"
      },
      "source": [
        "#**Logistic Regression**#\n",
        "To help you better understand the pros and cons of first- and second-order methods,\n",
        "we will look at Logistic Regression as an example. \\\\\n"
      ]
    },
    {
      "cell_type": "markdown",
      "metadata": {
        "id": "pp7fKj9l7i_v"
      },
      "source": [
        "**Step 1**: You already have the gradient descent algorithm (use the line search version from PA1). Now,\n",
        "code up the Newton’s method algorithm as well. Write a function using the format below:"
      ]
    },
    {
      "cell_type": "code",
      "execution_count": null,
      "metadata": {
        "id": "KFgovp0R7nek"
      },
      "outputs": [],
      "source": [
        "import math\n",
        "import numpy as np\n",
        "\n",
        "def nt(f,fp,fpp,y,A,xinit,maxit,tol):\n",
        "  '''\n",
        "  Note that you do no need to input a step size parameter\n",
        "  fpp is the function  handle  of  the  Hessian\n",
        "  '''\n",
        "  global nt_it\n",
        "  nt_it = 0\n",
        "  change = math.inf\n",
        "  x = xinit\n",
        "  while nt_it <= maxit and change > tol:\n",
        "    x_change = - np.linalg.inv(fpp(y, A, x)) @ fp(y, A, x)\n",
        "    new_x = x + x_change\n",
        "    change = abs(f(y, A, new_x) - f(y, A, x)) / abs(f(y, A, x))\n",
        "    nt_it += 1\n",
        "    x = new_x\n",
        "  return x\n",
        "\n",
        "def gd_ls(f,fp,y,A,xinit,ss_init,maxit,tol):\n",
        "  \"\"\"\n",
        "  Note that ss changes to ss_init\n",
        "  ss_init is the starting stepsize for backtracking\n",
        "  \"\"\"\n",
        "  # Add your code here\n",
        "  global ls_it\n",
        "  ls_it = 0\n",
        "  x = xinit\n",
        "  ss = ss_init\n",
        "  change = math.inf\n",
        "  alpha, beta = 1, 1/2\n",
        "  while maxit >= ls_it and change > tol:\n",
        "    while f(y, A, x - ss * fp(y, A, x)) > f(y, A, x) - (alpha/2)*ss*(np.linalg.norm(fp(y, A, x))**2):\n",
        "      ss = beta * ss \n",
        "    x_change = - ss * fp(y, A, x)\n",
        "    new_x = x + x_change\n",
        "    change = abs(f(y, A, new_x) - f(y, A, x)) / abs(f(y, A, x))\n",
        "    ls_it += 1\n",
        "    x = new_x\n",
        "  return x\n"
      ]
    },
    {
      "cell_type": "markdown",
      "metadata": {
        "id": "-FtK3x9_73ui"
      },
      "source": [
        "**Note**: we will implement the basic version of Newton’s method (not BFGS or L-BFGS). We will also\n",
        "use the basic method to implement the Newton step by inverting the Hessian using np.linalg.inv.\n",
        "There are more efficient ways to do this inversion, but for the purpose of this assignment, do **NOT** use\n",
        "other ways even if you know them. The convergence criterion is the same as that in PA1."
      ]
    },
    {
      "cell_type": "markdown",
      "metadata": {
        "id": "Z5M9CmXSYJle"
      },
      "source": [
        "*Answer the questions and discuss your findings here*\n"
      ]
    },
    {
      "cell_type": "markdown",
      "metadata": {
        "id": "5XzI3c1Y8qyk"
      },
      "source": [
        "**Step 2**: Code the objective function, the gradient, and the **Hessian** (you can use the Python lambda\n",
        "tool just like in PA1, or the regular function environment if you don’t like that). As a reminder, logistic\n",
        "regression has the following model\n",
        "$$y_i \\in \\{0,1\\}, \\quad p(y_i = 1) = \\text{sigmoid}(\\mathbf{a}_i^T \\mathbf{x}) =  \\frac{1}{1+e^{-\\mathbf{a}_i^T \\mathbf{x}}}, \\quad p(y_i=0) = 1 - p(y_i = 1).$$\n",
        "The likelihood can be written as \n",
        "$$p(y_i \\,|\\, \\mathbf{a}_i^T \\mathbf{x}) = p(y_i = 1 \\, | \\, \\mathbf{a}_i^T \\mathbf{x})^y_i \\cdot p(y_i = 0 \\, | \\, \\mathbf{a}_i^T \\mathbf{x})^{1-y_i} $$\n",
        "So we are solving the following optimization problem that minimizes the total negative log-likelihood\n",
        "minimize \\\\\n",
        "$$\\underset{\\mathbf{x}}{\\text{minimize}} \\quad \\quad  - \\sum_{i=1}^M (y_i \\log \\frac{1}{1+e^{-\\mathbf{a}_i^T \\mathbf{x}}} + (1-y_i) \\log \\frac{1}{1+e^{\\mathbf{a}_i^T \\mathbf{x}}}),$$\n",
        "or equivalently \n",
        "$$minimize_{\\mathbf{x}} \\sum_{i=1}^{M}\\log({1+e^{-(2y_i-1)a_i^T \\mathbf{x}}})$$\n",
        "where $y_i$ is the $i^{th}$ entry of the observation vector $\\mathbf{y}$ and $\\mathbf{a}_i$ is a column vector corresponding to the $i^{th}$ row of the matrix of covariates **A**.\n"
      ]
    },
    {
      "cell_type": "code",
      "execution_count": null,
      "metadata": {
        "colab": {
          "base_uri": "https://localhost:8080/"
        },
        "id": "idDw8frDX8AV",
        "outputId": "f14e318e-8cc6-4cc1-c36f-d0ef98150418"
      },
      "outputs": [
        {
          "name": "stdout",
          "output_type": "stream",
          "text": [
            "[1 1 1]\n"
          ]
        }
      ],
      "source": [
        "\"\"\"\n",
        "  Add your code here\n",
        "\"\"\"\n",
        "z = lambda y, A, x, c: np.exp(c*(2*y - np.full(y.shape, 1)) * (A @ x))\n",
        "f = lambda y, A, x: np.sum(np.log(1 + np.exp(-(2*y - np.full(y.shape, 1)) * (A @ x) )))\n",
        "fp = lambda y, A, x: -A.T @ ((2*y - np.full(y.shape, 1)) / (np.full(y.shape, 1) + z(y, A, x, 1)))\n",
        "fpp = lambda y, A, x: A.T @ (np.diag(np.full(y.shape, 1) / (np.full(y.shape, 2) + z(y, A, x, 1) + z(y, A, x, -1)))) @ A\n",
        "\n",
        "a = np.array([1, 2, 3])\n",
        "b = np.full(3, 1)\n",
        "print(b)\n"
      ]
    },
    {
      "cell_type": "markdown",
      "metadata": {
        "id": "-CtiLhndYLAK"
      },
      "source": [
        "*Answer the questions and discuss your findings here*\n"
      ]
    },
    {
      "cell_type": "markdown",
      "metadata": {
        "id": "dcIk0dJi8wAc"
      },
      "source": [
        "**Step 3**: Generate data. Set numpy’s random seed to 0. Then, generate the matrix of covariates\n",
        "**A** $\\in \\mathbb{R}^{M \\times N}$, which has i.i.d. entries distributed as N (0, 1). Use the same method, generate the\n",
        "regression coefficient vector $\\mathbf{x}$ $\\in$ $\\mathbb{R}^N$ as well. Then, generate the observation vector $\\mathbf{y} \\in \\{0, 1\\}^M$ using\n",
        "np.random.binomial()."
      ]
    },
    {
      "cell_type": "code",
      "execution_count": null,
      "metadata": {
        "id": "niRn-hOtX9GM"
      },
      "outputs": [],
      "source": [
        "\"\"\"\n",
        "  Add your code here\n",
        "\"\"\"\n",
        "M= 200\n",
        "N = 5\n",
        "np.random.seed(0)\n",
        "gen_A = lambda M, N: np.random.normal(0, 1, (M, N))\n",
        "gen_x = lambda M, N: np.random.normal(0, 1, (N))\n",
        "gen_y = lambda M, N: np.random.binomial(1, 0.5, M)# weird function"
      ]
    },
    {
      "cell_type": "markdown",
      "metadata": {
        "id": "qnShPAW-YL8s"
      },
      "source": [
        "*Answer the questions and discuss your findings here*\n"
      ]
    },
    {
      "cell_type": "markdown",
      "metadata": {
        "id": "J5dZkzgGXEKo"
      },
      "source": [
        "**Step 4**: Run your code. Apply both algorithms to the logistic regression objective. The algorithm\n",
        "parameters (maxit and tol) should be the same as that in PA1. Note that for logistic regression,\n",
        "it could be difficult to choose the ss_init parameter. For this assignment, we will set it to be 400\n",
        "divided by the square of the maximum singular value of the matrix **A**."
      ]
    },
    {
      "cell_type": "code",
      "execution_count": null,
      "metadata": {
        "id": "-o9F_2ciX9x4"
      },
      "outputs": [],
      "source": [
        "\"\"\"\n",
        "  Add your code here\n",
        "\"\"\"\n",
        "\n",
        "M, N = 100, 20\n",
        "A = gen_A(M, N)\n",
        "x = gen_x(M, N)\n",
        "y = gen_y(M, N)\n",
        "U, D, vh = np.linalg.svd(A)\n",
        "ss_init = 400 / pow(np.amax(D), 2)\n",
        "maxit = 10000\n",
        "tol = 1e-15"
      ]
    },
    {
      "cell_type": "markdown",
      "metadata": {
        "id": "RNEGf3DJYN3X"
      },
      "source": [
        "*Answer the questions and discuss your findings here*\n"
      ]
    },
    {
      "cell_type": "markdown",
      "metadata": {
        "id": "GtsAlQSOXXCZ"
      },
      "source": [
        "**1**) First, set M = 100 and N = 20. At convergence, print out the final cost, time taken, and number of\n",
        "iterations used by both algorithms. You should see that the final costs are more or less the same. Which\n",
        "algorithm is faster overall? Which algorithm converges in fewer iterations? Which algorithm has a longer\n",
        "per-iteration run time? Why?\n"
      ]
    },
    {
      "cell_type": "code",
      "execution_count": null,
      "metadata": {
        "colab": {
          "base_uri": "https://localhost:8080/"
        },
        "id": "3p_xMTr7X-cw",
        "outputId": "8c064e2f-7240-4789-dbf0-26c6ec2c8005"
      },
      "outputs": [
        {
          "name": "stdout",
          "output_type": "stream",
          "text": [
            "29.9 ms ± 5.03 ms per loop (mean ± std. dev. of 7 runs, 10 loops each)\n",
            "cost for line search: -6.092102182577287\n",
            "iterations used for line search: 126\n",
            "3.89 ms ± 1.81 ms per loop (mean ± std. dev. of 7 runs, 100 loops each)\n",
            "cost for Newton's method: -6.0921022711823065\n",
            "iterations used for Newton's method: 7\n"
          ]
        }
      ],
      "source": [
        "\"\"\"\n",
        "  Add your code here\n",
        "\"\"\"\n",
        "\n",
        "xinit = np.zeros(N)\n",
        "%timeit gd_ls(f,fp,y,A,xinit,ss_init,maxit,tol)\n",
        "print(f\"cost for line search: {np.sum(x - gd_ls(f,fp,y,A,xinit,ss_init,maxit,tol))}\")\n",
        "print(f\"iterations used for line search: {ls_it}\")\n",
        "%timeit nt(f,fp,fpp,y,A,xinit,maxit,tol)\n",
        "print(f\"cost for Newton's method: {np.sum(x - nt(f,fp,fpp,y,A,xinit,maxit,tol))}\")\n",
        "print(f\"iterations used for Newton's method: {nt_it}\")\n",
        "\n",
        "\n",
        "\n"
      ]
    },
    {
      "cell_type": "markdown",
      "metadata": {
        "id": "nMUAThakYOpe"
      },
      "source": [
        "*Answer the questions and discuss your findings here*\n",
        "\n",
        "Newton's method is faster overall and converges in fewer iterations; Newton's method has longer per-iteration runtime of 0.36ms whereas line search has a per-iteration run time of 0.21ms. Newton's method has a longer per-iteration runtime because it has to compute the Hessian and invert the matrix, which takes a lot of computation. Newton's method also takes less iteration to converge because it does a local quadratic approximation rather than a linear approximation like line search.\n"
      ]
    },
    {
      "cell_type": "markdown",
      "metadata": {
        "id": "Wsi7kNK0XYdE"
      },
      "source": [
        "**2**) Change the problem dimension to M = 10000 and N = 20. What happens now? How about in the\n",
        "case of N = 100? Which algorithm is faster overall? Why?\n"
      ]
    },
    {
      "cell_type": "code",
      "execution_count": null,
      "metadata": {
        "colab": {
          "base_uri": "https://localhost:8080/"
        },
        "id": "8PK3XOxSX_Km",
        "outputId": "e4d0e52c-ff77-441f-90dd-5a5d10527a11"
      },
      "outputs": [
        {
          "name": "stdout",
          "output_type": "stream",
          "text": [
            "Below are the results for M, N = 10000, 20:\n",
            "\n",
            "362 ms ± 63.1 ms per loop (mean ± std. dev. of 7 runs, 1 loop each)\n",
            "cost for line search: -9.842804427382697\n",
            "iterations used for line search: 14\n",
            "1.73 s ± 135 ms per loop (mean ± std. dev. of 7 runs, 1 loop each)\n",
            "cost for Newton's method: -9.842804479727027\n",
            "iterations used for Newton's method: 3\n",
            "\n",
            "\n",
            "Below are the results for M, N = 10000, 100:\n",
            "\n",
            "135 ms ± 28.6 ms per loop (mean ± std. dev. of 7 runs, 10 loops each)\n",
            "cost for line search: -6.275225262012884\n",
            "iterations used for line search: 13\n",
            "1.67 s ± 15.3 ms per loop (mean ± std. dev. of 7 runs, 1 loop each)\n",
            "cost for Newton's method: -6.275225265562029\n",
            "iterations used for Newton's method: 3\n"
          ]
        }
      ],
      "source": [
        "\"\"\"\n",
        "  Add your code here\n",
        "\"\"\"\n",
        "M, N = 10000, 20\n",
        "A = gen_A(M, N)\n",
        "x = gen_x(M, N)\n",
        "y = gen_y(M, N)\n",
        "U, D, vh = np.linalg.svd(A)\n",
        "ss_init = 400 / pow(np.amax(D), 2)\n",
        "maxit = 10000\n",
        "tol = 1e-15\n",
        "\n",
        "xinit = np.zeros(N)\n",
        "print(\"Below are the results for M, N = 10000, 20:\\n\")\n",
        "%timeit gd_ls(f,fp,y,A,xinit,ss_init,maxit,tol)\n",
        "print(f\"cost for line search: {np.sum(x - gd_ls(f,fp,y,A,xinit,ss_init,maxit,tol))}\")\n",
        "print(f\"iterations used for line search: {ls_it}\")\n",
        "%timeit nt(f,fp,fpp,y,A,xinit,maxit,tol)\n",
        "print(f\"cost for Newton's method: {np.sum(x - nt(f,fp,fpp,y,A,xinit,maxit,tol))}\")\n",
        "print(f\"iterations used for Newton's method: {nt_it}\")\n",
        "\n",
        "M, N = 10000, 20\n",
        "A = gen_A(M, N)\n",
        "x = gen_x(M, N)\n",
        "y = gen_y(M, N)\n",
        "U, D, vh = np.linalg.svd(A)\n",
        "ss_init = 400 / pow(np.amax(D), 2)\n",
        "print(\"\\n\")\n",
        "print(\"Below are the results for M, N = 10000, 100:\\n\")\n",
        "%timeit gd_ls(f,fp,y,A,xinit,ss_init,maxit,tol)\n",
        "print(f\"cost for line search: {np.sum(x - gd_ls(f,fp,y,A,xinit,ss_init,maxit,tol))}\")\n",
        "print(f\"iterations used for line search: {ls_it}\")\n",
        "%timeit nt(f,fp,fpp,y,A,xinit,maxit,tol)\n",
        "print(f\"cost for Newton's method: {np.sum(x - nt(f,fp,fpp,y,A,xinit,maxit,tol))}\")\n",
        "print(f\"iterations used for Newton's method: {nt_it}\")\n",
        "\n",
        "\n",
        "\n",
        "\n"
      ]
    },
    {
      "cell_type": "markdown",
      "metadata": {
        "id": "F54MOgNXYPiT"
      },
      "source": [
        "*Answer the questions and discuss your findings here*\n",
        "\n",
        "For the case M, N = 10000, 20, Newton's method uses significantly more time, but still converges with fewer iterations than line search, line search has better per-iteration runtime than Newton's method with 7.6 ms compared to 226 ms. When N becomes 100, Newton's method takes even more time per-iteration. \n",
        "\n",
        "Newton's method still takes less iterations to converge; however, the number of computations and required time for each iteration become drastically greater as the size of matrix gets bigger, taking more time to converge than line search.\n",
        "\n",
        "Therefore, line search is faster overall when the matrix size is big.\n"
      ]
    },
    {
      "cell_type": "markdown",
      "metadata": {
        "id": "CfPdaRf_XZvc"
      },
      "source": [
        "**3**) Load the given data file noisy1.npz. Select one algorithm to recover $\\mathbf{x}$ using the same approach as that in PA1. Which algorithm are you going to select? Why? Reshape it to a $40 \\times 40$ matrix. Visualize it as an image in grayscale using matplotlib. What do you think is the original image? "
      ]
    },
    {
      "cell_type": "code",
      "execution_count": null,
      "metadata": {
        "colab": {
          "background_save": true,
          "base_uri": "https://localhost:8080/"
        },
        "id": "xKHrsIJPYAAx",
        "outputId": "fb9fa6e8-cf96-4355-ab30-584c16a3e1e5"
      },
      "outputs": [
        {
          "name": "stdout",
          "output_type": "stream",
          "text": [
            "(5000, 1600)\n"
          ]
        },
        {
          "name": "stderr",
          "output_type": "stream",
          "text": [
            "/usr/local/lib/python3.7/dist-packages/ipykernel_launcher.py:5: RuntimeWarning: overflow encountered in exp\n",
            "  \"\"\"\n"
          ]
        },
        {
          "data": {
            "text/plain": [
              "<matplotlib.image.AxesImage at 0x7fd1b6deabd0>"
            ]
          },
          "execution_count": 14,
          "metadata": {},
          "output_type": "execute_result"
        },
        {
          "data": {
            "image/png": "[encoded data removed]",
            "text/plain": [
              "<Figure size 432x288 with 1 Axes>"
            ]
          },
          "metadata": {},
          "output_type": "display_data"
        }
      ],
      "source": [
        "\"\"\"\n",
        "  Add your code here\n",
        "\"\"\"\n",
        "import matplotlib.pyplot as plt\n",
        "data = np.load(\"noisy1.npz\")\n",
        "y = data['y']\n",
        "A = data['A']\n",
        "print(A.shape)\n",
        "xinit = np.zeros(A.shape[1])\n",
        "ss_init = 1\n",
        "tol = 1e-4\n",
        "maxit = 10000\n",
        "solution = gd_ls(f,fp,y,A,xinit,ss_init,maxit,tol)\n",
        "solution = solution.reshape((40,40))\n",
        "plt.gray()\n",
        "plt.imshow(solution)"
      ]
    },
    {
      "cell_type": "markdown",
      "metadata": {
        "id": "61_K3o1vYQT5"
      },
      "source": [
        "*Answer the questions and discuss your findings here*\n",
        "\n",
        "It's Mario\n",
        "\n"
      ]
    },
    {
      "cell_type": "markdown",
      "metadata": {
        "id": "AZjG-RWk5BGd"
      },
      "source": [
        "#Add Colab link here: # \n",
        "\n",
        "https://colab.research.google.com/drive/1rFUwyFutMmVGfWxo76b7lph6PJaZqagN?authuser=1#scrollTo=AZjG-RWk5BGd"
      ]
    }
  ],
  "metadata": {
    "colab": {
      "provenance": [],
      "include_colab_link": true
    },
    "kernelspec": {
      "display_name": "Python 2",
      "name": "python2"
    }
  },
  "nbformat": 4,
  "nbformat_minor": 0
}