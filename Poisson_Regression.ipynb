{
  "nbformat": 4,
  "nbformat_minor": 0,
  "metadata": {
    "colab": {
      "provenance": [],
      "include_colab_link": true
    },
    "kernelspec": {
      "name": "python3",
      "display_name": "Python 3"
    }
  },
  "cells": [
    {
      "cell_type": "markdown",
      "metadata": {
        "id": "view-in-github",
        "colab_type": "text"
      },
      "source": [
        "<a href=\"https://colab.research.google.com/github/QFrankQ/Applied-Numerical-Optimization/blob/main/Poisson_Regression.ipynb\" target=\"_parent\"><img src=\"https://colab.research.google.com/assets/colab-badge.svg\" alt=\"Open In Colab\"/></a>"
      ]
    },
    {
      "cell_type": "markdown",
      "metadata": {
        "id": "ZAaxEB7Qc0aD"
      },
      "source": [
        "#**Instructions:**#\n",
        "*Follow the instructions below to code, generate results (numbers, tables, figures), and\n",
        "discuss your findings. Summarize your observations\n",
        "and show results to support them. Submit 1) **code** and 2) **discussions and results** as required by each\n",
        "assignment, using this iPython notebook template. You must\n",
        "submit a PDF including them\n",
        "**and** a link to your Colab page at the bottom of this template to receive\n",
        "full credit. You are encouraged to collaborate and discuss the assignment, but\n",
        "you **HAVE** to write your submission by yourself. Identical submissions will be regarded as plagiarism.*   \\\\\n",
        "Please us the following tutorials- [GoogleColab: Setup](https://www.geeksforgeeks.org/how-to-use-google-colab/) and [Google Colab: Getting Started](https://colab.research.google.com/notebooks/welcome.ipynb) to gain familiarity with the Google Colab environment. \\\\\n",
        "Here is another excellent [post](https://towardsdatascience.com/optimizing-jupyter-notebook-tips-tricks-and-nbextensions-26d75d502663) for getting familiar with Jupyter Notebooks. \\\\\n",
        "**Note**: For submitting your solutions, do the following:  \\\\\n",
        "**1.** Add link to this colab notebook in the last cell of this notebook.  \n",
        "**2.** **File -> Save -> Print -> Save as PDF** and upload the pdf to gradescope.\n"
      ]
    },
    {
      "cell_type": "markdown",
      "metadata": {
        "id": "D3q-MyXme3bI"
      },
      "source": [
        "**Poisson Regression** \\\\\n",
        "To help you better understand how to select stepsizes for basic gradient descent\n",
        "algorithms, we will look at the case of Poisson Regression. As discussed in class, you cannot calculate a\n",
        "stepsize using Lipschitz continuity that gurantees convergence in this case. \\\\\n",
        "**Step 1**: Generate data. Set numpy’s random seed to 0. Then, let M = 200 and N = 5. Generate the\n",
        "matrix of covariates $A \\in R^{M×N}$\n",
        ", which has i.i.d. entries distributed as N (0, 0.25). Note: you can play\n",
        "around with different choices of these parameters, but the results have to be generated using these. Use the\n",
        "same method, generate the regression coefficient vector $x \\in R^N$ as well. Then, generate the observation\n",
        "vector $y \\in N^M$ as \\\\\n",
        ">$y \\sim Pois(e^{Ax})$  \n",
        "\n",
        "\n",
        "You can use np.random.normal() and np.random.poisson(). \n",
        "**Note:** use vector forms in your code. Do NOT write loops except for the outer iterations."
      ]
    },
    {
      "cell_type": "code",
      "metadata": {
        "id": "Ju3W1ZZ1zEza"
      },
      "source": [
        "\n",
        "import timeit\n",
        "import numpy as np\n",
        "import matplotlib.pyplot as plt\n",
        "import math"
      ],
      "execution_count": null,
      "outputs": []
    },
    {
      "cell_type": "code",
      "metadata": {
        "id": "-QVB2jBFtwmO"
      },
      "source": [
        "\"\"\"\n",
        "Add your code here\n",
        "\"\"\"\n",
        "M = 200\n",
        "N = 5\n",
        "np.random.seed(0)\n",
        "A = np.random.normal(0, 0.25, (M, N))\n",
        "x = np.random.normal(0, 0.25, N)\n",
        "y = np.exp(A @ x)"
      ],
      "execution_count": null,
      "outputs": []
    },
    {
      "cell_type": "markdown",
      "metadata": {
        "id": "Y74M7ltr230h"
      },
      "source": [
        "*Answer the questions and discuss your findings here*\n",
        "\n",
        "\n"
      ]
    },
    {
      "cell_type": "markdown",
      "metadata": {
        "id": "EvVnMxkl8ac6"
      },
      "source": [
        "**Step 2**: Code the gradient descent algorithms. Write two functions, one for constant stepsize and one\n",
        "for backtracking line search. Use the format below:"
      ]
    },
    {
      "cell_type": "code",
      "metadata": {
        "id": "MezkGkFO8jcl"
      },
      "source": [
        "def gd_const(f,fp,y,A,xinit,ss,maxit,tol):\n",
        "  \"\"\"\n",
        "  f is the handle for the minimization objective\n",
        "  fp is the handle for the gradient\n",
        "  y is the input observation vector\n",
        "  A is the input matrix of covariates\n",
        "  x_init is the initalized value of the regression coefficient\n",
        "  ss is the constant step size\n",
        "  maxit and tol help you terminate the iterations\n",
        "  \"\"\"\n",
        "  # Add your code here\n",
        "  it = 0\n",
        "  change = math.inf\n",
        "  x = xinit\n",
        "  while maxit >= it and change > tol:\n",
        "    x_change = - ss * fp(y, A, x)\n",
        "    new_x = x + x_change\n",
        "    change = abs(f(y, A, new_x) - f(y, A, x)) / abs(f(y, A, x))\n",
        "    it += 1\n",
        "    x = new_x\n",
        "\n",
        "  return x\n",
        "\n"
      ],
      "execution_count": null,
      "outputs": []
    },
    {
      "cell_type": "code",
      "metadata": {
        "id": "tv5iPYAiwaAq"
      },
      "source": [
        "def gd_ls(f,fp,y,A,xinit,ss_init,maxit,tol):\n",
        "  \"\"\"\n",
        "  Note that ss changes to ss_init\n",
        "  ss_init is the starting stepsize for backtracking\n",
        "  \"\"\"\n",
        "  # Add your code here\n",
        "  it = 0\n",
        "  x = xinit\n",
        "  ss = ss_init\n",
        "  change = math.inf\n",
        "  alpha, beta = 1, 1/2\n",
        "  while maxit >= it and change > tol:\n",
        "    while f(y, A, x - ss * fp(y, A, x)) > f(y, A, x) - (alpha/2)*ss*(np.linalg.norm(fp(y, A, x))**2):\n",
        "      ss = beta * ss \n",
        "    x_change = - ss * fp(y, A, x)\n",
        "    new_x = x + x_change\n",
        "    change = abs(f(y, A, new_x) - f(y, A, x)) / abs(f(y, A, x))\n",
        "    it += 1\n",
        "    x = new_x\n",
        "  return x"
      ],
      "execution_count": null,
      "outputs": []
    },
    {
      "cell_type": "markdown",
      "metadata": {
        "id": "H_DKxkbw25_i"
      },
      "source": [
        "*Answer the questions and discuss your findings here*\n"
      ]
    },
    {
      "cell_type": "markdown",
      "metadata": {
        "id": "76yBueo6-zmB"
      },
      "source": [
        "Implement both algorithms on your own. Add additional output elements yourself (detailed below).\n",
        "Determine convergence by \n",
        "1.   if maxit is exceeded, stop.\n",
        "2.   check the relative change in the objective\n",
        "function (absolute change divided by the objective) between consecutive iterations; if the change is less than tol, stop.\n",
        "\n",
        "\n"
      ]
    },
    {
      "cell_type": "markdown",
      "metadata": {
        "id": "tkCHLOMxAL_s"
      },
      "source": [
        "**Step 3**: Code the objective function and the gradient function using the Python lambda tool. As a\n",
        "sanity check, make sure your input to both is y, A, x. Then, set some parameters: pick a value for the\n",
        "constant stepsize ss. Use 1.0 for ss_init. Set maxit to 10000 and tol to 1e-15.\n"
      ]
    },
    {
      "cell_type": "code",
      "metadata": {
        "id": "JMY19mPu_rmP"
      },
      "source": [
        "\"\"\"\n",
        "Add your code here\n",
        "\"\"\"\n",
        "ss = 0.01\n",
        "ss_init = 1.0\n",
        "maxit = 10000\n",
        "tol = 1e-15\n",
        "f = lambda y, A, x: np.sum(np.negative(y * (A @ x)) + np.exp(A @ x))\n",
        "fp = lambda y, A, x: (A.T) @ (np.exp(A @ x) - y)"
      ],
      "execution_count": null,
      "outputs": []
    },
    {
      "cell_type": "markdown",
      "metadata": {
        "id": "8BP8VFOy3PnX"
      },
      "source": [
        "*Answer the questions and discuss your findings here*\n"
      ]
    },
    {
      "cell_type": "markdown",
      "metadata": {
        "id": "kB5jro7s_JAH"
      },
      "source": [
        "**Step 4**: Initialize $x$ to an all-zero vector and run both codes; use the Python timeit tool to time your\n",
        "code. Check the solution (print out both the estimated regression coefficient and total run time). You’ll\n",
        "see that the line search method almost always works, but not the constant stepsize method.\n",
        "\n"
      ]
    },
    {
      "cell_type": "code",
      "metadata": {
        "id": "EJol9ExFBN2W",
        "colab": {
          "base_uri": "https://localhost:8080/"
        },
        "outputId": "a5c1da88-b924-4d27-eb3f-ece6a75c1ca5"
      },
      "source": [
        "\n",
        "\"\"\"\n",
        "  Add your code here\n",
        "\"\"\"\n",
        "xinit = np.zeros(N)\n",
        "%timeit gd_const(f,fp,y,A,xinit,ss,maxit,tol)\n",
        "%timeit gd_ls(f,fp,y,A,xinit,ss_init,maxit,tol)"
      ],
      "execution_count": null,
      "outputs": [
        {
          "output_type": "stream",
          "name": "stdout",
          "text": [
            "8.54 ms ± 209 µs per loop (mean ± std. dev. of 7 runs, 100 loops each)\n",
            "3.17 ms ± 380 µs per loop (mean ± std. dev. of 7 runs, 100 loops each)\n"
          ]
        }
      ]
    },
    {
      "cell_type": "markdown",
      "metadata": {
        "id": "uURa6XHTw6rn"
      },
      "source": [
        "**a**.   What is a (rough) requirement for ss so that the constant stepsize method can converge to the (right) solution? Note that due to randomness in data generation, you will not be able to get the ground-truth $x$\n",
        "back.\n"
      ]
    },
    {
      "cell_type": "code",
      "metadata": {
        "id": "uyNDaEcnxAki",
        "colab": {
          "base_uri": "https://localhost:8080/"
        },
        "outputId": "b3a315c8-df01-4548-ae3a-765ee0fa2073"
      },
      "source": [
        "\"\"\"\n",
        "  Add your code here\n",
        "\"\"\"\n",
        "ss = 0.1\n",
        "flag = True\n",
        "x = np.zeros(5)\n",
        "while flag:\n",
        "  if f(y, A, x) < f(y, A, (x - ss * fp(y, A, x))):\n",
        "    break\n",
        "  ss += 0.01\n",
        "print(ss)\n",
        "\n"
      ],
      "execution_count": null,
      "outputs": [
        {
          "output_type": "stream",
          "name": "stdout",
          "text": [
            "0.17000000000000004\n"
          ]
        }
      ]
    },
    {
      "cell_type": "markdown",
      "metadata": {
        "id": "DUu2_7Su3Xqf"
      },
      "source": [
        "*Answer the questions and discuss your findings here*\n",
        "\n",
        "The rough stepsize requirement for gd_const to converge is that stepsize < 0.17\n"
      ]
    },
    {
      "cell_type": "markdown",
      "metadata": {
        "id": "v0pcUmCHxBo3"
      },
      "source": [
        "**b**.  Use the same random seed as above (0) to generate A, but use a different random seed to generate x and subsequently y. Try different random seeds. Does the stepsize requirement change? Can you find a stepsize that works for some random seeds but fails for others?\n"
      ]
    },
    {
      "cell_type": "code",
      "metadata": {
        "id": "maPLCxjbyXTN",
        "colab": {
          "base_uri": "https://localhost:8080/"
        },
        "outputId": "5ec8fd6b-615c-47eb-ff0e-e81e7d78e5f4"
      },
      "source": [
        "\"\"\"\n",
        "  Add your code here\n",
        "\"\"\"\n",
        "np.random.seed(1)\n",
        "alt_x = np.random.normal(0, 0.25, N)\n",
        "alt_y = np.exp(A @ x)\n",
        "ss = 0.01 \n",
        "\n",
        "while True:\n",
        "  if f(y, A, x) < f(y, A, x - ss * fp(y, A, x)):\n",
        "    break\n",
        "  ss += 0.01\n",
        "print(f\"stepsize requirement for seed(0): ss < {ss}\")\n",
        "\n",
        "ss = 0.01\n",
        "while True:\n",
        "  if f(alt_y, A, alt_x) < f(alt_y, A, alt_x - ss * fp(alt_y, A, alt_x)):\n",
        "    break\n",
        "  ss += 0.01\n",
        "print(f\"stepsize requirement for seed(1): ss < {ss}\")\n"
      ],
      "execution_count": null,
      "outputs": [
        {
          "output_type": "stream",
          "name": "stdout",
          "text": [
            "stepsize requirement for seed(0): ss < 0.17\n",
            "stepsize requirement for seed(1): ss < 0.16\n"
          ]
        }
      ]
    },
    {
      "cell_type": "markdown",
      "metadata": {
        "id": "-zD2ZxjT36EM"
      },
      "source": [
        "*Answer the questions and discuss your findings here*\n",
        "\n",
        "stepsize of 0.165 would work for seed(0) but not seed(1)\n"
      ]
    },
    {
      "cell_type": "markdown",
      "metadata": {
        "id": "czVA475-xDil"
      },
      "source": [
        "**c**.   When the constant stepsize method diverges, show two plots, one for objective vs. iteration, the other for one regression coefficient vs. iteration. Discuss your findings. If you are not familiar with plotting, check out the [matplotlib](https://matplotlib.org/tutorials/index.html)\n",
        "documentations.\n"
      ]
    },
    {
      "cell_type": "code",
      "metadata": {
        "id": "hVQuQRB3xFrR",
        "colab": {
          "base_uri": "https://localhost:8080/",
          "height": 765
        },
        "outputId": "4a827237-12c5-4329-cde8-619133ccb8bf"
      },
      "source": [
        "\"\"\"\n",
        "  Add your code here\n",
        "\"\"\"\n",
        "iteration = []\n",
        "objective = []\n",
        "coeff = []\n",
        "\n",
        "def gd_const(f,fp,y,A,xinit,ss,maxit,tol):\n",
        "  it = 0\n",
        "  change = math.inf\n",
        "  x = xinit\n",
        "  while maxit >= it and change > tol:\n",
        "    iteration.append(it)\n",
        "    x_change = - ss * fp(y, A, x)\n",
        "    new_x = x + x_change\n",
        "    change = abs(f(y, A, new_x) - f(y, A, x)) / abs(f(y, A, x))\n",
        "    it += 1\n",
        "    x = new_x\n",
        "    objective.append(f(y, A, new_x))\n",
        "    coeff.append(np.linalg.norm(new_x))\n",
        "\n",
        "  return x\n",
        "ss = 0.18\n",
        "gd_const(f,fp,y,A,xinit,ss,maxit,tol)\n",
        "print(iteration)\n",
        "print(objective)\n",
        "print(coeff)\n",
        "plt.plot(iteration, objective, \"ro\")\n",
        "plt.xlabel(\"Iteration\")\n",
        "plt.ylabel(\"Objective\")\n",
        "plt.axis([1, iteration[-1], objective[0], 10000])\n",
        "plt.show()\n",
        "\n",
        "plt.plot(iteration, coeff, \"ro\")\n",
        "plt.xlabel(\"Iteration\")\n",
        "plt.ylabel(\"Norm of Regression Coefficient\")\n",
        "plt.axis([1, iteration[-1], coeff[0], 10000])\n",
        "plt.show()\n"
      ],
      "execution_count": null,
      "outputs": [
        {
          "output_type": "stream",
          "name": "stdout",
          "text": [
            "[0, 1, 2, 3, 4, 5, 6, 7, 8]\n",
            "[200.22688522830026, 200.86128518162496, 202.50509746576154, 207.45956192799758, 222.42442096659363, 310.76149171982877, 8934.103685196327, inf, nan]\n",
            "[0.6213185031798659, 0.24353412516242667, 0.8933051693351335, 0.8847751282853781, 1.8819855815098019, 3.4733832757735583, 9.747698419682306, 1155.8005527791147, inf]\n"
          ]
        },
        {
          "output_type": "stream",
          "name": "stderr",
          "text": [
            "/usr/local/lib/python3.7/dist-packages/ipykernel_launcher.py:8: RuntimeWarning: overflow encountered in exp\n",
            "  \n",
            "/usr/local/lib/python3.7/dist-packages/ipykernel_launcher.py:9: RuntimeWarning: overflow encountered in exp\n",
            "  if __name__ == '__main__':\n",
            "/usr/local/lib/python3.7/dist-packages/ipykernel_launcher.py:8: RuntimeWarning: invalid value encountered in matmul\n",
            "  \n",
            "/usr/local/lib/python3.7/dist-packages/ipykernel_launcher.py:8: RuntimeWarning: invalid value encountered in add\n",
            "  \n"
          ]
        },
        {
          "output_type": "display_data",
          "data": {
            "text/plain": [
              "<Figure size 432x288 with 1 Axes>"
            ],
            "image/png": "[encoded data removed]"
          },
          "metadata": {
            "needs_background": "light"
          }
        },
        {
          "output_type": "display_data",
          "data": {
            "text/plain": [
              "<Figure size 432x288 with 1 Axes>"
            ],
            "image/png": "[encoded data removed]"
          },
          "metadata": {
            "needs_background": "light"
          }
        }
      ]
    },
    {
      "cell_type": "markdown",
      "metadata": {
        "id": "i1bZ2Xs-4PHd"
      },
      "source": [
        "*Answer the questions and discuss your findings here*\n",
        "\n",
        "Both objective function and the norm of coefficients blows up after a few iterations.\n"
      ]
    },
    {
      "cell_type": "markdown",
      "metadata": {
        "id": "eNUOtcgdxGR0"
      },
      "source": [
        "**d**.    Try different initializations of x as input to the line search method. Does the solution depend on it? Why?\n",
        "\n"
      ]
    },
    {
      "cell_type": "code",
      "metadata": {
        "id": "sXybPMVRyhAN",
        "colab": {
          "base_uri": "https://localhost:8080/"
        },
        "outputId": "b3b69529-be28-4103-f30d-b74a9f6a6303"
      },
      "source": [
        "\"\"\"\n",
        "  Add your code here\n",
        "\"\"\"\n",
        "\n",
        "alt_x = np.array([-1, 1, 2, 0.5, 0])\n",
        "xinit = np.zeros(N)\n",
        "np.set_printoptions(precision=15)\n",
        "print(f\"solution to original xinit:\\n {gd_ls(f,fp,y,A,xinit,ss_init,maxit,tol)}\")\n",
        "print(f\"solution to alt_x: \\n{gd_ls(f,fp,y,A,alt_x,ss_init,maxit,tol)}\")\n"
      ],
      "execution_count": null,
      "outputs": [
        {
          "output_type": "stream",
          "name": "stdout",
          "text": [
            "solution to original xinit:\n",
            " [ 0.138990661118656  0.223118434886947 -0.105578717900765\n",
            "  0.02617850838328   0.057013352556057]\n",
            "solution to alt_x: \n",
            "[ 0.138990679011493  0.223118510017461 -0.105578693772619\n",
            "  0.0261785063232    0.057013309211659]\n"
          ]
        }
      ]
    },
    {
      "cell_type": "markdown",
      "metadata": {
        "id": "kGGKddTM4Ptf"
      },
      "source": [
        "*Answer the questions and discuss your findings here*\n",
        "\n",
        "For non-optimal solutions (because of setting tolerance) solutions may differ because the stepsize time gradient all depend on the original initialization of input x\n"
      ]
    },
    {
      "cell_type": "markdown",
      "metadata": {
        "id": "Eqk9rDzmHKz5"
      },
      "source": [
        "**e**.  Load the given data file noisy.npz. Use your code to recover the signal x. Reshape it to a 40 × 40\n",
        "matrix. Visualize it as an image in grayscale using matplotlib. What do you think is the original\n",
        "image?"
      ]
    },
    {
      "cell_type": "code",
      "metadata": {
        "id": "FiUq0x35HT7B",
        "colab": {
          "base_uri": "https://localhost:8080/",
          "height": 303
        },
        "outputId": "bbb02d4f-8008-4e3c-f7ad-a54749d4c414"
      },
      "source": [
        "\"\"\"\n",
        "  Add your code here\n",
        "\"\"\"\n",
        "data = np.load(\"noisy.npz\")\n",
        "y = data['y']\n",
        "A = data['A']\n",
        "print(A.shape)\n",
        "xinit = np.zeros(A.shape[1])\n",
        "ss_init = 0.01\n",
        "tol = 1e-5\n",
        "maxit = 10000\n",
        "solution = gd_ls(f,fp,y,A,xinit,ss_init,maxit,tol)\n",
        "solution = solution.reshape((40,40))\n",
        "plt.gray()\n",
        "plt.imshow(solution)\n"
      ],
      "execution_count": null,
      "outputs": [
        {
          "output_type": "stream",
          "name": "stdout",
          "text": [
            "(5000, 1600)\n"
          ]
        },
        {
          "output_type": "execute_result",
          "data": {
            "text/plain": [
              "<matplotlib.image.AxesImage at 0x7fbd28a7f410>"
            ]
          },
          "metadata": {},
          "execution_count": 103
        },
        {
          "output_type": "display_data",
          "data": {
            "text/plain": [
              "<Figure size 432x288 with 1 Axes>"
            ],
            "image/png": "[encoded data removed]"
          },
          "metadata": {
            "needs_background": "light"
          }
        }
      ]
    },
    {
      "cell_type": "code",
      "metadata": {
        "id": "p5h49G5VX1FR"
      },
      "source": [],
      "execution_count": null,
      "outputs": []
    },
    {
      "cell_type": "markdown",
      "metadata": {
        "id": "oXDbxgHPHWuv"
      },
      "source": [
        "*Answer the questions and discuss your findings here*\n",
        "\n",
        "It's the UMass logo."
      ]
    },
    {
      "cell_type": "markdown",
      "metadata": {
        "id": "KqnN_JxcXptz"
      },
      "source": [
        "#Add Colab link here: # \n",
        "\n",
        "https://colab.research.google.com/drive/1oN3HY-_L4VjENrZ2DJxpA4mygvlUTPSF?authuser=1#scrollTo=oXDbxgHPHWuv"
      ]
    }
  ]
}