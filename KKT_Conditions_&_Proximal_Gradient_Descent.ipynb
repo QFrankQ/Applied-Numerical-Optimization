{
  "nbformat": 4,
  "nbformat_minor": 0,
  "metadata": {
    "colab": {
      "provenance": [],
      "include_colab_link": true
    },
    "kernelspec": {
      "name": "python3",
      "display_name": "Python 3"
    }
  },
  "cells": [
    {
      "cell_type": "markdown",
      "metadata": {
        "id": "view-in-github",
        "colab_type": "text"
      },
      "source": [
        "<a href=\"https://colab.research.google.com/github/QFrankQ/Applied-Numerical-Optimization/blob/main/KKT_Conditions_%26_Proximal_Gradient_Descent.ipynb\" target=\"_parent\"><img src=\"https://colab.research.google.com/assets/colab-badge.svg\" alt=\"Open In Colab\"/></a>"
      ]
    },
    {
      "cell_type": "markdown",
      "metadata": {
        "id": "ZAaxEB7Qc0aD"
      },
      "source": [
        "#**Instructions:**#\n",
        "*For the following problem, you need to write down detailed, step-by-step derivations, and implement an algorithm to find the solution. You must submit a link to your\n",
        "Colab page to receive full credit. You are encouraged to collaborate and discuss the assignment, but\n",
        "you **HAVE** to write your submission by yourself. Identical submissions will be regarded as plagiarism.* \\\\\n",
        "**Deadline: October 23 11:59pm**"
      ]
    },
    {
      "cell_type": "markdown",
      "metadata": {
        "id": "D3q-MyXme3bI"
      },
      "source": [
        "#**Projection onto ellipsoid**# \n",
        "For an arbitrary point (vector) $\\mathbf{y} \\in \\mathbb{R}^N$, we consider the following problem of projecting it onto an ellipsoid (i.e., finding point/points in a set that is/are closest to $\\mathbf{y}$)\n",
        "\\begin{align*}\n",
        "\\underset{\\mathbf{x}}{\\text{minimize}} & \\quad \\frac{1}{2}\\| \\mathbf{x}- \\mathbf{y} \\|_2^2 \\\\\n",
        "\\text{s.t.} & \\quad (\\mathbf{x}-\\boldsymbol{\\mu})^T \\mathbf{F} (\\mathbf{x}-\\boldsymbol{\\mu}) \\leq 1,\n",
        "\\end{align*} \n",
        "where $\\mathbf{F}$ is a positive semidefinite matrix. We assume that $(\\mathbf{y}-\\boldsymbol{\\mu})^T \\mathbf{F} (\\mathbf{y}-\\boldsymbol{\\mu}) > 1$, i.e., $\\mathbf{y}$ is outside the ellipsoid region. Otherwise the problem is trivial. \\\\\n",
        "\n",
        "\n",
        "a) For the special case of $\\boldsymbol{\\mu} = \\mathbf{0}$ and $\\mathbf{F} = \\mathbf{I}$, we are simply projecting onto a circle. In this case, it's easy to see that the solution should be $\\mathbf{x} = \\frac{\\mathbf{y}}{\\| \\mathbf{y} \\|_2}$. Prove it using KKT conditions. \\\\"
      ]
    },
    {
      "cell_type": "markdown",
      "metadata": {
        "id": "lID7rP3NRfeR"
      },
      "source": [
        "**Add your derivation here**\n",
        "\\begin{gather}\n",
        "\\mathbf{g}(\\mathbf{x}) = (\\mathbf{x}-\\boldsymbol{\\mu})^T \\mathbf{F} (\\mathbf{x}-\\boldsymbol{\\mu}) - 1\\\\\n",
        "Lagrangian = 𝐿(\\mathbf{x}, \\mathbf{λ}) = \\frac{1}{2}\\|\\mathbf{x}- \\mathbf{y} \\|_2^2  + λ((\\mathbf{x}-\\boldsymbol{\\mu})^T \\mathbf{F} (\\mathbf{x}-\\boldsymbol{\\mu}) - 1)\\\\\\\\\n",
        "\\text{KKT1:} \\quad \\frac{∂L}{∂\\mathbf{x}} = \\mathbf{x} - \\mathbf{y} + 2λ\\mathbf{F}(\\mathbf{x} - \\boldsymbol{\\mu}) = 0\\\\\n",
        "\\mathbf{x} + 2λ\\mathbf{F}\\mathbf{x} - 2λ\\mathbf{F}\\boldsymbol{\\mu} = \\mathbf{y}\\\\\n",
        "(\\mathbf{I}+2λ\\mathbf{F})\\mathbf{x} = \\mathbf{y} + 2λ\\mathbf{F}\\boldsymbol{\\mu}\\\\\n",
        "\\mathbf{x} = (\\mathbf{I}+2λ\\mathbf{F})^{-1}(\\mathbf{y}+2λ\\mathbf{F}\\boldsymbol{\\mu})\\\\\n",
        "\\end{gather} \\\\\n",
        "\n",
        "\\begin{gather}\n",
        "\\text{KKT5:} \\quad λ((\\mathbf{x}-\\boldsymbol{\\mu})^T \\mathbf{F} (\\mathbf{x}-\\boldsymbol{\\mu}) - 1) = 0\\\\\n",
        "\\text{2 cases:}\n",
        "  \\begin{cases}\n",
        "  λ = 0\\\\\n",
        "  (\\mathbf{x}-\\boldsymbol{\\mu})^T \\mathbf{F} (\\mathbf{x}-\\boldsymbol{\\mu}) - 1) = 0 \\quad, λ > 0\n",
        "  \\end{cases}\\\\\n",
        "\\text{Substitue } \\mathbf{x} \\text{ with } (\\mathbf{I}+2λ\\mathbf{F})^{-1}(\\mathbf{y}+2λ\\mathbf{F}\\boldsymbol{\\mu})\\\\\n",
        "\\text{We get } ((\\mathbf{I}+2λ\\mathbf{F})^{-1}(\\mathbf{y}+2λ\\mathbf{F}\\boldsymbol{\\mu}) - \\boldsymbol{\\mu})^T \\mathbf{F}((\\mathbf{I}+2λ\\mathbf{F})^{-1}(\\mathbf{y}+2λ\\mathbf{F}\\boldsymbol{\\mu}) - \\boldsymbol{\\mu}) -1 = 0\\\\\n",
        "\\text{When } \\boldsymbol{\\mu} = 0 \\text{ and } \\mathbf{F = I},\\\\\n",
        "(\\mathbf{x} - \\boldsymbol{\\mu}) = (\\mathbf{I}+2λ\\mathbf{F})^{-1}(\\mathbf{y}+2λ\\mathbf{F}\\boldsymbol{\\mu}) = ((1+2λ)\\mathbf{I})^{-1}\\mathbf{y} = (\\frac{1}{1+2λ}\\mathbf{I}\\mathbf{y})\\\\\n",
        "\\text{We get } (\\frac{1}{1+2λ}\\mathbf{Iy})^T(\\frac{1}{1+2λ}\\mathbf{Iy}) -1 = 0, \\quad\n",
        "x = ((1+2λ)\\mathbf{I})^{-1}\\mathbf{y} = \\frac{1}{1+2λ}\\mathbf{Iy}\\\\\n",
        " (\\frac{1}{1+ 2λ})^{2}\\|\\mathbf{Iy}\\|_2^2= 1, \\quad 1+2λ = \\|y\\|_2\\\\\n",
        "\\text{Substitute } 1+2λ \\text{ for } \\|\\mathbf{y}\\|_2, \n",
        "\\text{ we get } \\mathbf{x = \\frac{y}{\\|y\\|_2}}.\n",
        "\\end{gather}\n",
        "\n"
      ]
    },
    {
      "cell_type": "markdown",
      "metadata": {
        "id": "rSWIIlC8RsQq"
      },
      "source": [
        "b) For the generic case when $\\mathbf{F} \\neq \\mathbf{I}$, the solution does not have closed-form. Derive and implement an algorithm to find the solution. Apply your algorithm to the data provided in **proje.npz**. (it contains $\\mathbf{y},\\mathbf{F},\\boldsymbol{\\mu}$) to find $\\mathbf{x}$, and submit your numerical solution (print out the value of $\\mathbf{x}$ that you get). \\\\\n",
        "\n",
        "**Hint**: You will need to use the KKT conditions first and then an iterative algorithm. The algorithm is **briefly** mentioned in class; you will find it somewhere on the lecture slides. \\\\\n",
        "Depending on whether you picked the best method (multiple methods are applicable), you may or may not need the identities listed at [link](https://en.wikipedia.org/wiki/Matrix_calculus). \n"
      ]
    },
    {
      "cell_type": "markdown",
      "metadata": {
        "id": "s8-6OxuNRuUr"
      },
      "source": [
        "**Add your derivation here** \n",
        "\n",
        "Since we are minimizeing the distance between $\\mathbf{x}$ and $\\mathbf{y}$, and that $\\mathbf{y}$ is outside the ellipsoid, $\\mathbf{x}$ must be on the boundary of the ellipsoid/constraint, where it must satisfies $(\\mathbf{x} - \\boldsymbol{\\mu})^T\\mathbf{F}(\\mathbf{x} - \\boldsymbol{\\mu}) = 1$. \n",
        "\\begin{gather}\n",
        "\\mathbf{x} = (\\mathbf{I} + 2λ\\mathbf{F})^{-1}(\\mathbf{y} + 2λ\\mathbf{F}\\boldsymbol{\\mu})\\\\\n",
        "\\mathbf{x} = (\\mathbf{I} + 2λ\\mathbf{F})^{-1}(\\mathbf{y}+2λ\\mathbf{F}\\boldsymbol{\\mu} + \\boldsymbol{\\mu} - \\boldsymbol{\\mu})\\\\\n",
        "\\mathbf{x} = (\\mathbf{I} + 2λ\\mathbf{F})^{-1}((\\mathbf{I} + 2λ\\mathbf{F})\\boldsymbol{\\mu} + \\mathbf{y} - \\boldsymbol{\\mu})\\\\\n",
        "\\mathbf{x} = \\boldsymbol{\\mu} + (\\mathbf{I} + 2λ\\mathbf{F})^{-1}(\\mathbf{y} - \\mathbf{u})\\\\\n",
        "\\end{gather}\n",
        "In part one we derived that $\\mathbf{x}$ can be written in terms of lambda, we plug it into the above equation and get\n",
        "\\begin{gather}\n",
        "((\\mathbf{I} + 2λ\\mathbf{F})^{-1}(\\mathbf{y} - \\mathbf{u}))^T\\mathbf{F}(\\mathbf{I} + 2λ\\mathbf{F})^{-1}(\\mathbf{y} - \\mathbf{u}) = 1\\\\\n",
        "(\\mathbf{y} - \\mathbf{u})^T((\\mathbf{I} + 2λ\\mathbf{F})^{-1})^T\\mathbf{F}(\\mathbf{I} + 2λ\\mathbf{F})^{-1}(\\mathbf{y} - \\mathbf{u}) -1 =0\\\\\n",
        "\\text{where } f(λ) = (\\mathbf{y} - \\mathbf{u})^T((\\mathbf{I} + 2λ\\mathbf{F})^{-1})^T\\mathbf{F}(\\mathbf{I} + 2λ\\mathbf{F})^{-1}(\\mathbf{y} - \\mathbf{u}) -1 \\text{, and solve } f(λ) = 0\\\\\n",
        "\\end{gather}\n",
        "We then use the newtons method to solve the above root finding problem,\n",
        "with $f'(λ)$ approximated using finite difference method.\n",
        "\\begin{gather}\n",
        "\\end{gather}\n",
        "\n"
      ]
    },
    {
      "cell_type": "code",
      "metadata": {
        "id": "WhZ07JF8R4xS",
        "colab": {
          "base_uri": "https://localhost:8080/"
        },
        "outputId": "4e3be8bf-6198-4273-c6fe-bfbccbe08cae"
      },
      "source": [
        "import numpy as np\n",
        "import math\n",
        "def proj_ellipsoid(y,mu,F):\n",
        "  \"\"\"\n",
        "  Project the point y onto the ellipsoid defined by mean mu and cov F\n",
        "  \"\"\"\n",
        "  lam = 0 #lambda\n",
        "  prev_lam = 0\n",
        "  ss = 1 \n",
        "  tol = 1e-15\n",
        "  h = 0.001\n",
        "  it = 0\n",
        "  change = math.inf\n",
        "  g = lambda x: (x-mu).T @ F @ (x-mu) -1\n",
        "  KKT1 = lambda x: np.sum(x - y + 2*lam*((F @(x - mu).T))) < tol\n",
        "  KKT2 = lambda x: g(x) < 0\n",
        "  KKT4 = lambda lam: lam >= 0\n",
        "  KKT5 = lambda x, lam: abs(lam * g(x)) < tol\n",
        "  KKT_satisfy = lambda x, lam: all([KKT1(x), KKT2(x), KKT4(lam), KKT5(x, lam)])\n",
        "  Q = lambda lam: np.linalg.inv(np.identity(y.shape[0]) + 2*lam*F)\n",
        "  f = lambda lam: (y-mu).T @ Q(lam).T @ F @ Q(lam) @ (y-mu) - 1\n",
        "  #fp_fpp = lambda lam: h * (f(lam) - f(lam-h))/ (f(lam+h) - 2*f(lam) + f(lam-h))\n",
        "  fp = lambda lam:(f(lam+h) - f(lam)) / h\n",
        "  f_fp = lambda lam: f(lam) / fp(lam)\n",
        "  find_x = lambda lam: mu + (Q(lam) @ (y-mu))\n",
        " \n",
        "\n",
        "  while it<=1000 and change > tol:\n",
        "    new_lam = lam - f_fp(lam)\n",
        "    change = abs(new_lam -lam)/ abs(lam)\n",
        "    lam = new_lam\n",
        "    prev_lam = lam\n",
        "    it += 1 \n",
        "\n",
        "  x = find_x(lam)\n",
        "  print(\"KKT conditions:\")\n",
        "  for boo in [KKT1(x), KKT2(x), KKT4(lam), KKT5(x, lam)]:\n",
        "    print(boo)\n",
        "\n",
        "  return x\n",
        "\n",
        "data = np.load(\"proje.npz\")\n",
        "y = data['y']\n",
        "F = data['F']\n",
        "mu = data['mu']\n",
        "\n",
        "print(f\"x = {proj_ellipsoid(y, mu, F)}\")\n",
        "\n",
        "  \n",
        "  \n",
        "  \n",
        "\n",
        "  \n",
        "   "
      ],
      "execution_count": null,
      "outputs": [
        {
          "output_type": "stream",
          "name": "stdout",
          "text": [
            "KKT conditions:\n",
            "True\n",
            "True\n",
            "True\n",
            "True\n",
            "x = [ 1.09730606 -0.35929511 -0.36182598 -1.15511341  1.0153389 ]\n"
          ]
        },
        {
          "output_type": "stream",
          "name": "stderr",
          "text": [
            "/usr/local/lib/python3.7/dist-packages/ipykernel_launcher.py:30: RuntimeWarning: divide by zero encountered in double_scalars\n"
          ]
        }
      ]
    },
    {
      "cell_type": "markdown",
      "metadata": {
        "id": "I1AHkwS0RSlb"
      },
      "source": [
        "#**Add Colab link here**"
      ]
    }
  ]
}